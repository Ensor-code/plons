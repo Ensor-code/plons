{
 "cells": [
  {
   "cell_type": "markdown",
   "id": "bb5e9049",
   "metadata": {},
   "source": [
    "# Make a 3D plot of your model, that you can rotate, where you can zoom in, etc."
   ]
  },
  {
   "cell_type": "markdown",
   "id": "68b2f3fe",
   "metadata": {},
   "source": [
    "### Importing packages"
   ]
  },
  {
   "cell_type": "code",
   "execution_count": 1,
   "id": "7f3f6af5",
   "metadata": {
    "tags": []
   },
   "outputs": [],
   "source": [
    "import numpy                    as np\n",
    "import plons\n",
    "import plons.ConversionFactors_cgs    as cgs\n",
    "import plons.PhysicalQuantities       as pq\n",
    "import plons.GeometricalFunctions     as gf\n",
    "import plons.plot3D                   as p3\n",
    "import os\n",
    "import k3d\n",
    "from ipywidgets import widgets,interact\n",
    "\n",
    "import warnings\n",
    "warnings.filterwarnings(\"ignore\")"
   ]
  },
  {
   "cell_type": "markdown",
   "id": "84c675d3",
   "metadata": {},
   "source": [
    "### Retrieve the data of the example model"
   ]
  },
  {
   "cell_type": "code",
   "execution_count": 9,
   "id": "e435d46a",
   "metadata": {},
   "outputs": [],
   "source": [
    "prefix = 'wind'\n",
    "model  = 'v10e00'\n",
    "loc = str(model)\n",
    "dumpnumber   = 584\n",
    "dump = os.path.join(loc, f\"{prefix}_{dumpnumber:05d}\")\n"
   ]
  },
  {
   "cell_type": "code",
   "execution_count": 10,
   "id": "9b26a061",
   "metadata": {},
   "outputs": [],
   "source": [
    "!mkdir -p $loc"
   ]
  },
  {
   "cell_type": "code",
   "execution_count": 12,
   "id": "38f9fd84",
   "metadata": {},
   "outputs": [],
   "source": [
    "%%capture\n",
    "if not os.path.exists(dump):\n",
    "    # !wget \"https://github.com/Ensor-code/phantom-models/raw/refs/heads/main/Esseldeurs+2023/BinaryHighLucy/wind_00600?download=\" --output-document $dump\n",
    "    !wget 'https://raw.githubusercontent.com/Ensor-code/phantom-models/main/Malfait%2B2024a/v10e00/wind_v10e00' --output-document $dump\n",
    "\n",
    "infile = os.path.join(loc, f\"{prefix}.in\")\n",
    "if not os.path.exists(infile):\n",
    "    !wget 'https://raw.githubusercontent.com/Ensor-code/phantom-models/main/Malfait%2B2024a/v10e00/wind.in'     --output-document $infile\n",
    "\n",
    "setupfile = os.path.join(loc, f\"{prefix}.setup\")\n",
    "if not os.path.exists(setupfile):\n",
    "    !wget 'https://raw.githubusercontent.com/Ensor-code/phantom-models/main/Malfait%2B2024a/v10e00/wind.setup'  --output-document $setupfile\n"
   ]
  },
  {
   "cell_type": "markdown",
   "id": "f3ef2edb",
   "metadata": {},
   "source": [
    "### Load in the data of your model"
   ]
  },
  {
   "cell_type": "code",
   "execution_count": 15,
   "metadata": {
    "tags": []
   },
   "outputs": [],
   "source": [
    "'''\n",
    "Load in data\n",
    "'''\n",
    "    \n",
    "setup = plons.LoadSetup(loc, prefix)\n",
    "dumpData = plons.LoadFullDump(dump, setup)\n",
    "pos = dumpData['position']/cgs.au"
   ]
  },
  {
   "cell_type": "markdown",
   "id": "7bf88093",
   "metadata": {},
   "source": [
    "### Make the interactive 3D plot of the full data\n",
    "(if the widget can't load, do pip install ipympl)\n",
    "\n",
    "In the interactive plot, you can change the point_size, opacity, colorbar min and max value in '> Points' "
   ]
  },
  {
   "cell_type": "code",
   "execution_count": 16,
   "metadata": {
    "tags": []
   },
   "outputs": [
    {
     "data": {
      "application/vnd.jupyter.widget-view+json": {
       "model_id": "db898d1843744a2392822488892faddd",
       "version_major": 2,
       "version_minor": 0
      },
      "text/plain": [
       "interactive(children=(Dropdown(description='Basic ColorMap:', options=('Binary', 'BlackBodyRadiation', 'Blues'…"
      ]
     },
     "metadata": {},
     "output_type": "display_data"
    },
    {
     "data": {
      "application/vnd.jupyter.widget-view+json": {
       "model_id": "6cd2ccfe9b9343d3b14999f9c786a113",
       "version_major": 2,
       "version_minor": 0
      },
      "text/plain": [
       "Output()"
      ]
     },
     "metadata": {},
     "output_type": "display_data"
    }
   ],
   "source": [
    "#choose colorbar limits (can also be changed interactively)\n",
    "colMin = -20\n",
    "colMax = -12\n",
    "#Make plot\n",
    "p3.make3DPlot(dumpData['rho'],pos,colMin,colMax,pt_size=5,opty=0.5)#,pt_size=0.5,opty=0.5)"
   ]
  },
  {
   "cell_type": "markdown",
   "id": "46af1461",
   "metadata": {},
   "source": [
    "### Make the same plot, but only include that within a certain range of projected velocities\n",
    "This is usefull when you want to compare to channel maps, that only include data with a certain projected velocity (absolute value of velocity, so - and + side are plot)"
   ]
  },
  {
   "cell_type": "code",
   "execution_count": 7,
   "metadata": {
    "tags": []
   },
   "outputs": [
    {
     "data": {
      "application/vnd.jupyter.widget-view+json": {
       "model_id": "89281a157b65447c8fb82baad0742635",
       "version_major": 2,
       "version_minor": 0
      },
      "text/plain": [
       "interactive(children=(Dropdown(description='Basic ColorMap:', options=('Binary', 'BlackBodyRadiation', 'Blues'…"
      ]
     },
     "metadata": {},
     "output_type": "display_data"
    },
    {
     "data": {
      "application/vnd.jupyter.widget-view+json": {
       "model_id": "16427dfb27b74d93ab6eb083f0f31474",
       "version_major": 2,
       "version_minor": 0
      },
      "text/plain": [
       "Output()"
      ]
     },
     "metadata": {},
     "output_type": "display_data"
    }
   ],
   "source": [
    "# Make 3D plot of data within certain velocity (absolute value) range to get dat in certain channel map\n",
    "vmin = 4\n",
    "vmax = 7\n",
    "#Fill in v_y, v_z, v_x or other v_array depending on inclincation\n",
    "p3.makePlot_vDir(dumpData['vz'], dumpData['r'], dumpData['rho'], pos, vmin, vmax,pt_size =2,opty=0.7)"
   ]
  }
 ],
 "metadata": {
  "kernelspec": {
   "display_name": "Python 3",
   "language": "python",
   "name": "python3"
  },
  "language_info": {
   "codemirror_mode": {
    "name": "ipython",
    "version": 3
   },
   "file_extension": ".py",
   "mimetype": "text/x-python",
   "name": "python",
   "nbconvert_exporter": "python",
   "pygments_lexer": "ipython3",
   "version": "3.10.13"
  }
 },
 "nbformat": 4,
 "nbformat_minor": 5
}
