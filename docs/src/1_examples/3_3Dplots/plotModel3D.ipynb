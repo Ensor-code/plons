{
 "cells": [
  {
   "cell_type": "code",
   "execution_count": 1,
   "id": "1aa00683-8e08-4c67-9fc2-e5d3cf73f385",
   "metadata": {
    "tags": []
   },
   "outputs": [],
   "source": [
    "import numpy                    as np\n",
    "\n",
    "import plons\n",
    "import plons.ConversionFactors_cgs    as cgs\n",
    "import plons.PhysicalQuantities       as pq\n",
    "import plons.GeometricalFunctions     as gf\n",
    "import plons.plot3D                   as p3\n",
    "import os\n",
    "import k3d\n",
    "from ipywidgets import widgets,interact\n",
    "\n",
    "import warnings\n",
    "warnings.filterwarnings(\"ignore\")"
   ]
  },
  {
   "cell_type": "markdown",
   "id": "d8f69b7c-acb3-49f2-9b7a-20102e5598d7",
   "metadata": {},
   "source": [
    "EXAMPLE"
   ]
  },
  {
   "cell_type": "code",
   "execution_count": 2,
   "id": "6a3ce4aa-0da4-443e-9fd3-e75c1fc9385a",
   "metadata": {
    "tags": []
   },
   "outputs": [],
   "source": [
    "'''\n",
    "Load in data\n",
    "'''\n",
    "model  = 'v20e00'\n",
    "run    = '/lhome/jolienm/Documents/TierModels/R_Aql/cooling/binariesInPaper/finalAccrDisks/'+str(model)+'_T3000_res8_racc01/'\n",
    "dump   = 292\n",
    "    \n",
    "setup = plons.LoadSetup(run, \"wind\")\n",
    "dumpData = plons.LoadFullDump(os.path.join(run, f\"wind_%05d\" % dump), setup)\n",
    "pos = dumpData['position']/cgs.au"
   ]
  },
  {
   "cell_type": "code",
   "execution_count": 2,
   "id": "4a77e6e9-8e5c-47aa-8b6f-836696ea0c98",
   "metadata": {
    "tags": []
   },
   "outputs": [],
   "source": [
    "'''\n",
    "Load in data\n",
    "'''\n",
    "model  = 'v20e00'\n",
    "run    = '/lhome/jolienm/Documents/TierModels/finalModelsHIcooling/'+str(model)+'/'\n",
    "dump   = 600\n",
    "    \n",
    "setup = plons.LoadSetup(run, \"wind\")\n",
    "dumpData = plons.LoadFullDump(os.path.join(run, f\"wind_%05d\" % dump), setup)\n",
    "pos = dumpData['position']/cgs.au"
   ]
  },
  {
   "cell_type": "code",
   "execution_count": 16,
   "id": "bddfdd1b-078a-41f1-b46b-5c05c15435fd",
   "metadata": {
    "tags": []
   },
   "outputs": [],
   "source": [
    "'''\n",
    "Load in data\n",
    "'''\n",
    "run = '/STER/hydroModels/jolienm/modelsSlurm/planets/P40slowSilke_c/'\n",
    "# run    = '/lhome/jolienm/Documents/TierModels/R_Aql/cooling/binariesInPaper/bin_v20a06e00_c_MR/'\n",
    "dump   = 888\n",
    "    \n",
    "setup = plons.LoadSetup(run, \"wind\")\n",
    "dumpData = plons.LoadFullDump(os.path.join(run, f\"wind_%05d\" % dump), setup)\n",
    "pos = dumpData['position']/cgs.au"
   ]
  },
  {
   "cell_type": "code",
   "execution_count": 22,
   "id": "fbc44d90-1823-437e-b0e9-aa120bb4731a",
   "metadata": {
    "tags": []
   },
   "outputs": [],
   "source": [
    "'''\n",
    "Load in data\n",
    "'''\n",
    "run = '/STER/hydroModels/matse/Binary6Lucy/'\n",
    "# run    = '/lhome/jolienm/Documents/TierModels/R_Aql/cooling/binariesInPaper/bin_v20a06e00_c_MR/'\n",
    "dump   = 600\n",
    "    \n",
    "setup = plons.LoadSetup(run, \"wind\")\n",
    "dumpData = plons.LoadFullDump(os.path.join(run, f\"wind_%05d\" % dump), setup)\n",
    "pos = dumpData['position']/cgs.au"
   ]
  },
  {
   "cell_type": "code",
   "execution_count": 3,
   "id": "cfe4d2ca-3de1-4505-ac8b-00aa82791804",
   "metadata": {
    "tags": []
   },
   "outputs": [
    {
     "data": {
      "application/vnd.jupyter.widget-view+json": {
       "model_id": "a0c966e15b8f46909cddb42b14515172",
       "version_major": 2,
       "version_minor": 0
      },
      "text/plain": [
       "interactive(children=(Dropdown(description='Basic ColorMap:', options=('Binary', 'BlackBodyRadiation', 'Blues'…"
      ]
     },
     "metadata": {},
     "output_type": "display_data"
    },
    {
     "data": {
      "application/vnd.jupyter.widget-view+json": {
       "model_id": "b02cc0c63fe54abcb8a2dcc30886c3d0",
       "version_major": 2,
       "version_minor": 0
      },
      "text/plain": [
       "Output()"
      ]
     },
     "metadata": {},
     "output_type": "display_data"
    }
   ],
   "source": [
    "## Make 3D plot of full data\n",
    "\n",
    "#choose colorbar limits (can also be changed interactively)\n",
    "colMin = -20\n",
    "colMax = -12\n",
    "#Make plot\n",
    "p3.make3DPlot(dumpData['rho'],pos,colMin,colMax,pt_size=5,opty=0.5)#,pt_size=0.5,opty=0.5)"
   ]
  },
  {
   "cell_type": "code",
   "execution_count": null,
   "id": "7b25800a-4392-4ff7-92ac-f730083d18bd",
   "metadata": {},
   "outputs": [],
   "source": []
  },
  {
   "cell_type": "code",
   "execution_count": null,
   "id": "5afab499-2263-4f65-b77c-0baddd747797",
   "metadata": {},
   "outputs": [],
   "source": []
  },
  {
   "cell_type": "code",
   "execution_count": null,
   "id": "2dc3d072-e954-47e3-b625-f9df80f8de67",
   "metadata": {},
   "outputs": [],
   "source": []
  },
  {
   "cell_type": "code",
   "execution_count": 16,
   "id": "326df486-96aa-4f93-9940-8d965a046810",
   "metadata": {
    "tags": []
   },
   "outputs": [
    {
     "data": {
      "application/vnd.jupyter.widget-view+json": {
       "model_id": "f79f3178c1d5411cb539a0f928ef8a5d",
       "version_major": 2,
       "version_minor": 0
      },
      "text/plain": [
       "interactive(children=(Dropdown(description='Basic ColorMap:', options=('Binary', 'BlackBodyRadiation', 'Blues'…"
      ]
     },
     "metadata": {},
     "output_type": "display_data"
    },
    {
     "data": {
      "application/vnd.jupyter.widget-view+json": {
       "model_id": "7385a20f0e6a406894856b120b5bfb5f",
       "version_major": 2,
       "version_minor": 0
      },
      "text/plain": [
       "Output()"
      ]
     },
     "metadata": {},
     "output_type": "display_data"
    }
   ],
   "source": [
    "# Make 3D plot of data within certain velocity (now absolute value) range to get dat in certain channel map\n",
    "vmin = 0\n",
    "vmax = 7\n",
    "#Fill in v_y, v_z, v_x or other v_array depending on inclincation\n",
    "p3.makePlot_vDir(dumpData['vz'], dumpData['r'], dumpData['rho'], pos, vmin, vmax,pt_size =1,opty=0.5)"
   ]
  },
  {
   "cell_type": "code",
   "execution_count": null,
   "id": "6450e529-3412-487e-b5f5-caaba05499e1",
   "metadata": {},
   "outputs": [],
   "source": []
  }
 ],
 "metadata": {
  "kernelspec": {
   "display_name": "Python 3 (ipykernel)",
   "language": "python",
   "name": "python3"
  },
  "language_info": {
   "codemirror_mode": {
    "name": "ipython",
    "version": 3
   },
   "file_extension": ".py",
   "mimetype": "text/x-python",
   "name": "python",
   "nbconvert_exporter": "python",
   "pygments_lexer": "ipython3",
   "version": "3.10.13"
  }
 },
 "nbformat": 4,
 "nbformat_minor": 5
}
