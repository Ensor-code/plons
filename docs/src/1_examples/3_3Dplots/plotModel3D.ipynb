{
 "cells": [
  {
   "cell_type": "code",
   "execution_count": 1,
   "id": "1aa00683-8e08-4c67-9fc2-e5d3cf73f385",
   "metadata": {
    "tags": []
   },
   "outputs": [],
   "source": [
    "import numpy                    as np\n",
    "\n",
    "import plons\n",
    "import plons.ConversionFactors_cgs    as cgs\n",
    "import plons.PhysicalQuantities       as pq\n",
    "import plons.GeometricalFunctions     as gf\n",
    "import plons.plot3D                   as p3\n",
    "import os\n",
    "import k3d\n",
    "from ipywidgets import widgets,interact\n",
    "\n",
    "import warnings\n",
    "warnings.filterwarnings(\"ignore\")"
   ]
  },
  {
   "cell_type": "markdown",
   "id": "d8f69b7c-acb3-49f2-9b7a-20102e5598d7",
   "metadata": {},
   "source": [
    "EXAMPLE"
   ]
  },
  {
   "cell_type": "code",
   "execution_count": 2,
   "id": "6a3ce4aa-0da4-443e-9fd3-e75c1fc9385a",
   "metadata": {
    "tags": []
   },
   "outputs": [],
   "source": [
    "'''\n",
    "Load in data\n",
    "'''\n",
    "model  = 'v20e00'\n",
    "run    = '/lhome/jolienm/Documents/TierModels/R_Aql/cooling/binariesInPaper/finalAccrDisks/'+str(model)+'_T3000_res8_racc01/'\n",
    "dump   = 292\n",
    "    \n",
    "setup = plons.LoadSetup(run, \"wind\")\n",
    "dumpData = plons.LoadFullDump(os.path.join(run, f\"wind_%05d\" % dump), setup)\n",
    "pos = dumpData['position']/cgs.au"
   ]
  },
  {
   "cell_type": "code",
   "execution_count": 16,
   "id": "bddfdd1b-078a-41f1-b46b-5c05c15435fd",
   "metadata": {
    "tags": []
   },
   "outputs": [],
   "source": [
    "'''\n",
    "Load in data\n",
    "'''\n",
    "run = '/STER/hydroModels/jolienm/modelsSlurm/planets/P40slowSilke_c/'\n",
    "# run    = '/lhome/jolienm/Documents/TierModels/R_Aql/cooling/binariesInPaper/bin_v20a06e00_c_MR/'\n",
    "dump   = 888\n",
    "    \n",
    "setup = plons.LoadSetup(run, \"wind\")\n",
    "dumpData = plons.LoadFullDump(os.path.join(run, f\"wind_%05d\" % dump), setup)\n",
    "pos = dumpData['position']/cgs.au"
   ]
  },
  {
   "cell_type": "code",
   "execution_count": 22,
   "id": "fbc44d90-1823-437e-b0e9-aa120bb4731a",
   "metadata": {
    "tags": []
   },
   "outputs": [],
   "source": [
    "'''\n",
    "Load in data\n",
    "'''\n",
    "run = '/STER/hydroModels/matse/Binary6Lucy/'\n",
    "# run    = '/lhome/jolienm/Documents/TierModels/R_Aql/cooling/binariesInPaper/bin_v20a06e00_c_MR/'\n",
    "dump   = 600\n",
    "    \n",
    "setup = plons.LoadSetup(run, \"wind\")\n",
    "dumpData = plons.LoadFullDump(os.path.join(run, f\"wind_%05d\" % dump), setup)\n",
    "pos = dumpData['position']/cgs.au"
   ]
  },
  {
   "cell_type": "code",
   "execution_count": 23,
   "id": "cfe4d2ca-3de1-4505-ac8b-00aa82791804",
   "metadata": {
    "tags": []
   },
   "outputs": [
    {
     "data": {
      "application/vnd.jupyter.widget-view+json": {
       "model_id": "8c94654162794555af8eb910b939bb45",
       "version_major": 2,
       "version_minor": 0
      },
      "text/plain": [
       "interactive(children=(Dropdown(description='Basic ColorMap:', options=('Binary', 'BlackBodyRadiation', 'Blues'…"
      ]
     },
     "metadata": {},
     "output_type": "display_data"
    },
    {
     "data": {
      "application/vnd.jupyter.widget-view+json": {
       "model_id": "e27f07c56ee04fbbb91436c5c4e85057",
       "version_major": 2,
       "version_minor": 0
      },
      "text/plain": [
       "Output()"
      ]
     },
     "metadata": {},
     "output_type": "display_data"
    }
   ],
   "source": [
    "## Make 3D plot of full data\n",
    "\n",
    "#choose colorbar limits (can also be changed interactively)\n",
    "colMin = -20\n",
    "colMax = -12\n",
    "#Make plot\n",
    "p3.make3DPlot(dumpData['rho'],pos,colMin,colMax,pt_size=5,opty=0.5)#,pt_size=0.5,opty=0.5)"
   ]
  },
  {
   "cell_type": "code",
   "execution_count": 26,
   "id": "326df486-96aa-4f93-9940-8d965a046810",
   "metadata": {
    "tags": []
   },
   "outputs": [
    {
     "data": {
      "application/vnd.jupyter.widget-view+json": {
       "model_id": "2457ef09b15247f3b0f65e1d863b582f",
       "version_major": 2,
       "version_minor": 0
      },
      "text/plain": [
       "interactive(children=(Dropdown(description='Basic ColorMap:', options=('Binary', 'BlackBodyRadiation', 'Blues'…"
      ]
     },
     "metadata": {},
     "output_type": "display_data"
    },
    {
     "data": {
      "application/vnd.jupyter.widget-view+json": {
       "model_id": "aafe18e028c941d0bdab2d7b491691ff",
       "version_major": 2,
       "version_minor": 0
      },
      "text/plain": [
       "Output()"
      ]
     },
     "metadata": {},
     "output_type": "display_data"
    }
   ],
   "source": [
    "# Make 3D plot of data within certain velocity (now absolute value) range to get dat in certain channel map\n",
    "vmin = 8\n",
    "vmax = 9\n",
    "#Fill in v_y, v_z, v_x or other v_array depending on inclincation\n",
    "p3.makePlot_vDir(dumpData['vz'], dumpData['r'], dumpData['rho'], pos, vmin, vmax,pt_size =5,opty=0.5)"
   ]
  },
  {
   "cell_type": "code",
   "execution_count": null,
   "id": "6450e529-3412-487e-b5f5-caaba05499e1",
   "metadata": {},
   "outputs": [],
   "source": []
  }
 ],
 "metadata": {
  "kernelspec": {
   "display_name": "Python 3 (ipykernel)",
   "language": "python",
   "name": "python3"
  },
  "language_info": {
   "codemirror_mode": {
    "name": "ipython",
    "version": 3
   },
   "file_extension": ".py",
   "mimetype": "text/x-python",
   "name": "python",
   "nbconvert_exporter": "python",
   "pygments_lexer": "ipython3",
   "version": "3.10.13"
  }
 },
 "nbformat": 4,
 "nbformat_minor": 5
}
