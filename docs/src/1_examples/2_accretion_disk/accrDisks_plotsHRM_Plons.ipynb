{
 "cells": [
  {
   "cell_type": "markdown",
   "id": "77002989",
   "metadata": {},
   "source": [
    "# plot HRM using plons"
   ]
  },
  {
   "cell_type": "code",
   "execution_count": 1,
   "id": "b19df198-1d17-457e-b50d-f8219ec55da1",
   "metadata": {
    "tags": []
   },
   "outputs": [],
   "source": [
    "import plons\n",
    "import os\n",
    "import numpy as np\n",
    "import matplotlib.pyplot        as plt\n",
    "\n",
    "import plons.ConversionFactors_cgs        as cgs\n",
    "import plons.AccrDisk                     as ad"
   ]
  },
  {
   "cell_type": "code",
   "execution_count": 2,
   "id": "e45f77b8-b1c2-46ee-bf8f-8c6fa12ad012",
   "metadata": {
    "tags": []
   },
   "outputs": [],
   "source": [
    "'''\n",
    "Plot of scale heights and total mass ifo r for 1 model, different dumps\n",
    "'''\n",
    "def plotHM_diffDumps(model,dumps,xH):\n",
    "    run    = '/lhome/jolienm/Documents/TierModels/R_Aql/cooling/binariesInPaper/finalAccrDisks/'+str(model)+'_T3000_res8_racc01/'\n",
    "    fig1, ax1 = plt.subplots()\n",
    "    fig2, ax2 = plt.subplots()\n",
    "    lineStyles = ['-.','--','-',':']\n",
    "    i = 0\n",
    "    for dump in dumps:\n",
    "        # For all dumps, read in info about r, scale heights, mass\n",
    "        (r,SH,Mtot,MrelRstep) = ad.readInfoAccrDisk(run,dump,xH)\n",
    "        ax1.plot(r[1:],(SH[1:]),linestyle = lineStyles[i],label=str(dump))#,c = CB_color_cycle[2*i+1])\n",
    "        ax2.plot(r[1:],(Mtot[1:]),linestyle = lineStyles[i],label=str(dump))#,c = CB_color_cycle[2*i+1])\n",
    "        i = i+1\n",
    "        \n",
    "    # Construct plots\n",
    "    ax1.legend(fontsize = 12)\n",
    "    ax1.set_xlabel(r'r [au]',fontsize = 12)\n",
    "    ax1.set_ylabel(r'H(r) [au]',fontsize = 12,rotation = 90)\n",
    "    ax1.tick_params(axis='x', labelsize=12)\n",
    "    ax1.tick_params(axis='y', labelsize=12)\n",
    "\n",
    "    ax2.legend(fontsize = 12)\n",
    "    ax2.set_xlabel(r'r [au]',fontsize = 12)\n",
    "    ax2.set_ylabel(r'M(r) [$M_\\odot$]',fontsize = 12,rotation = 90)\n",
    "    ax2.tick_params(axis='x', labelsize=12)\n",
    "    ax2.tick_params(axis='y', labelsize=12)\n",
    "\n",
    "    fig1.savefig(run+'/plotsAnalysis/diffDumps_SHvsR_wind_00'+str(dump)+'_'+xH+'.png')\n",
    "    fig2.savefig(run+'/plotsAnalysis/diffDumps_MvsR_wind_00'+str(dump)+'_'+xH+'.png')"
   ]
  },
  {
   "cell_type": "code",
   "execution_count": 3,
   "id": "a2bb36de-b9ed-4009-85d8-4e72c09b74b4",
   "metadata": {
    "tags": []
   },
   "outputs": [],
   "source": [
    "'''\n",
    "Plot of scale heights, total mass and relative added mass ifo r for 3 different models, same dump\n",
    "'''\n",
    "def plotHMrM_3models(modelNames,dump,xH):\n",
    "    fig1, ax1 = plt.subplots()\n",
    "    fig2, ax2 = plt.subplots()\n",
    "    fig3, ax3 = plt.subplots()\n",
    "    lineStyles = ['-.','--',':','-','-']\n",
    "    SHmaxi = []\n",
    "    Mtmaxi = []\n",
    "    radii  = []\n",
    "    colors = ['firebrick','goldenrod','navy']\n",
    "    i = 0\n",
    "    maxX = 0\n",
    "    # Read in info about r, scale heights, masses and relative added mas\n",
    "    for model in modelNames:\n",
    "        run    = '/lhome/jolienm/Documents/TierModels/R_Aql/cooling/binariesInPaper/finalAccrDisks/'+str(model)+'_T3000_res8_racc01/'\n",
    "        (r,SH,Mtot,MrelRstep) = ad.readInfoAccrDisk(run,dump,xH)\n",
    "        ax1.plot(r[1:],(SH[1:]),linestyle = lineStyles[i],c = colors[i],label=str(model))#,c = CB_color_cycle[2*i+1])\n",
    "        ax2.plot(r[1:],(Mtot[1:]),linestyle = lineStyles[i],c = colors[i], label=str(model))#,c = CB_color_cycle[2*i+1])\n",
    "        ax3.plot(r[1:],(MrelRstep[1:]),linestyle = lineStyles[i],c = colors[i], label=str(model))#,c = CB_color_cycle[2*i+1])\n",
    "        maxXM = np.max(r[1:])\n",
    "        SHmaxi = np.append(SHmaxi,np.max(SH[1:]))\n",
    "        Mtmaxi = np.append(Mtmaxi,np.max(Mtot[1:]))\n",
    "        radii  = np.append(radii ,np.max(r))\n",
    "        if maxXM > maxX:\n",
    "            maxX = maxXM\n",
    "        i = i+1\n",
    "\n",
    "    print('The radii are ',radii)\n",
    "    # Construct plots\n",
    "    ax1.legend(fontsize = 12)\n",
    "    ax1.set_xlabel(r'r [au]',fontsize = 12)\n",
    "    ax1.set_ylabel(r'H(r) [au]',fontsize = 12,rotation = 90)\n",
    "    ax1.tick_params(axis='x', labelsize=12)\n",
    "    ax1.tick_params(axis='y', labelsize=12)\n",
    "    ax1.hlines(y=SHmaxi,xmin=0,xmax=radii,linewidth = 0.6, color = colors,linestyle = ':')#,label='criterium')\n",
    "    ax1.vlines(x=radii,ymin = 0, ymax = SHmaxi, color = colors,linestyle = ':',linewidth=0.6)#, label ='r')\n",
    "\n",
    "    ax2.legend(fontsize = 12)\n",
    "    ax2.set_xlabel(r'r [au]',fontsize = 12)\n",
    "    ax2.set_ylabel(r'M(r) [$M_\\odot$]',fontsize = 12,rotation = 90)\n",
    "    ax2.tick_params(axis='x', labelsize=12)\n",
    "    ax2.tick_params(axis='y', labelsize=12)\n",
    "    ax2.hlines(y=Mtmaxi,xmin=0,xmax=radii,linewidth = 0.6, color = colors,linestyle = ':')#,label='criterium')\n",
    "    ax2.vlines(x=radii,ymin = 0, ymax = Mtmaxi, color = colors,linestyle = ':',linewidth=0.6)#, label ='r')\n",
    "\n",
    "\n",
    "    ax3.legend(fontsize = 12)\n",
    "    ax3.set_xlabel(r'r [au]',fontsize = 12)\n",
    "    ax3.set_ylabel(r'Mrel/rstep []',fontsize = 12,rotation = 90)\n",
    "    ax3.tick_params(axis='x', labelsize=12)\n",
    "    ax3.tick_params(axis='y', labelsize=12)\n",
    "    crit = 0.3\n",
    "    ax3.hlines(y=crit,xmin=0,xmax=maxX,linewidth = 0.5, color = 'k',linestyle = 'dotted',label='criterium')\n",
    "    ax3.plot(radii[0],0,'*',color = colors[0])\n",
    "    ax3.plot(radii[1],0,'*',color = colors[1])\n",
    "    ax3.plot(radii[2],0,'*',color = colors[2])\n",
    "\n",
    "    fig1.savefig('/lhome/jolienm/Documents/TierModels/R_Aql/cooling/binariesInPaper/finalAccrDisks/plotsAnalysis/e00Models_SHvsR_wind_00'+str(dump)+'_'+xH+'.png')\n",
    "    fig2.savefig('/lhome/jolienm/Documents/TierModels/R_Aql/cooling/binariesInPaper/finalAccrDisks/plotsAnalysis/e00Models_MvsR_wind_00'+str(dump)+'_'+xH+'.png')\n",
    "    fig3.savefig('/lhome/jolienm/Documents/TierModels/R_Aql/cooling/binariesInPaper/finalAccrDisks/plotsAnalysis/e00Models_Mrel:rstep_wind_00'+str(dump)+'_'+xH+'.png')\n"
   ]
  },
  {
   "cell_type": "code",
   "execution_count": 4,
   "id": "f4fe4de3-40e3-4135-a8d8-70243a5a92a7",
   "metadata": {
    "tags": []
   },
   "outputs": [],
   "source": [
    "'''\n",
    "Plot of scale heights and total mass ifo r for 1 model, 1 dump, 4 thetaregions\n",
    "'''\n",
    "def plotHM_diffThetaRegions(dump,model,xH):\n",
    "    run    = '/lhome/jolienm/Documents/TierModels/R_Aql/cooling/binariesInPaper/finalAccrDisks/'+str(model)+'_T3000_res8_racc01/'\n",
    "    thetas = ['0','pi:2','pi','pi3:2']\n",
    "    lineStyles = ['-.','--',':','-','-']\n",
    "    colors = ['firebrick','goldenrod','navy','lime','k']\n",
    "    \n",
    "    fig, ((ax1),(ax2)) = plt.subplots(nrows = 1, ncols= 2 , figsize=(19, 7))\n",
    "    # read files with data for r, scale height and mass for different theta regions\n",
    "    # safe maximal scale heights, radii and masses for plot\n",
    "    SHmaxi = []\n",
    "    radii  = []\n",
    "    masses = []\n",
    "    i = 0\n",
    "    for theta in thetas:\n",
    "        file = os.path.join(run,'plotsAnalysis/infoAccrDisk_theta~'+str(theta)+'_wind_00'+str(dump)+'_'+xH+'.txt')\n",
    "        (r, SH, Mtot) = np.loadtxt(file, skiprows=11, usecols=(0,1,2), unpack=True)\n",
    "        ax1.plot(r[1:],(SH[1:]),linestyle = lineStyles[i],color = colors[i],label=r'$\\theta \\sim$'+str(theta))#,c = CB_color_cycle[2*i+1])\n",
    "        ax2.plot(r[1:],(Mtot[1:]),linestyle = lineStyles[i],color = colors[i],label=r'$\\theta \\sim$'+str(theta))#,c = CB_color_cycle[2*i+1])\n",
    "        SHmaxi = np.append(SHmaxi,np.max(SH))\n",
    "        radii  = np.append(radii ,np.max(r))\n",
    "        masses = np.append(masses,np.max(Mtot))\n",
    "        i = i+1\n",
    "\n",
    "    # Same for full dump\n",
    "    (r,SH,Mtot,MrelRstep) = ad.readInfoAccrDisk(run,dump,xH)\n",
    "    SHmaxi = np.append(SHmaxi,np.max(SH))\n",
    "    radii  = np.append(radii ,np.max(r))\n",
    "    masses = np.append(masses,np.max(Mtot))\n",
    "\n",
    "    # Make plots\n",
    "    ax1.plot(r[1:],(SH[1:]),linestyle = lineStyles[i],label='full',color = colors[i],linewidth = 0.6)#,c = CB_color_cycle[2*i+1])\n",
    "    ax1.hlines(y=SHmaxi,xmin=0,xmax=radii,linewidth = 0.6, color = colors,linestyle = ':')#,label='criterium')\n",
    "    ax1.vlines(x=radii,ymin = 0, ymax = SHmaxi, color = colors,linestyle = ':',linewidth=0.6)#, label ='r')\n",
    "    ax1.legend(fontsize = 16)\n",
    "    ax1.set_xlabel(r'r [au]',fontsize = 16)\n",
    "    ax1.set_ylabel(r'H(r) [au]',fontsize = 16,rotation = 90)\n",
    "    ax1.tick_params(axis='x', labelsize=16)\n",
    "    ax1.tick_params(axis='y', labelsize=16)\n",
    "    ax1.set_xlim(0.02,1.01*np.max(radii))\n",
    "    ax1.set_ylim(0.005,1.01*np.max(SHmaxi))\n",
    "\n",
    "    ax2.plot(r[1:],(Mtot[1:]),linestyle = lineStyles[i],label='full',color = colors[i],linewidth = 0.6)#,c = CB_color_cycle[2*i+1])\n",
    "    ax2.hlines(y=masses,xmin=0,xmax=radii,linewidth = 0.6, color = colors,linestyle = ':')#,label='criterium')\n",
    "    ax2.vlines(x=radii,ymin = 0, ymax = masses, color = colors,linestyle = ':',linewidth=0.6)#, label ='r')\n",
    "    # ax2.legend(fontsize = 16)\n",
    "    ax2.set_xlabel(r'r [au]',fontsize = 16)\n",
    "    ax2.set_ylabel(r'M(r) [$M_\\odot$]',fontsize = 16,rotation = 90)\n",
    "    ax2.tick_params(axis='x', labelsize=16)\n",
    "    ax2.tick_params(axis='y', labelsize=16)\n",
    "\n",
    "    ax2.set_xlim(0.02,1.01*np.max(radii))\n",
    "    ax2.set_ylim(0,1.01*np.max(masses))\n",
    "\n",
    "    fig.savefig(run+'/plotsAnalysis/diffThetas_SH_M_R_wind_00'+str(dump)+'_'+xH+'.png')"
   ]
  },
  {
   "cell_type": "markdown",
   "id": "4b006da7-b78c-4ba3-850b-fb67dc73a3c3",
   "metadata": {},
   "source": [
    "EXAMPLES (all my models, all options):"
   ]
  },
  {
   "cell_type": "code",
   "execution_count": 1,
   "id": "d1bbf165-01d9-4725-953c-d471e63b6966",
   "metadata": {
    "tags": []
   },
   "outputs": [
    {
     "data": {
      "text/plain": [
       "'\\nPlot of scale heights and total mass ifo r for 1 model, different dumps\\n'"
      ]
     },
     "execution_count": 1,
     "metadata": {},
     "output_type": "execute_result"
    }
   ],
   "source": [
    "'''\n",
    "Plot of scale heights and total mass ifo r for 1 model, different dumps\n",
    "'''\n",
    "xH    = '1H'\n",
    "model = 'v20e50'\n",
    "dumps = [250,266,277,292]\n",
    "plotHM_diffDumps(model,dumps,xH)\n",
    "model = 'v10e50'\n",
    "dumps = [245,263,277,292]\n",
    "plotHM_diffDumps(model,dumps,xH)\n",
    "model = 'v05e50'\n",
    "dumps = [245,263,277,292]\n",
    "plotHM_diffDumps(model,dumps,xH)\n",
    "xH    = '2H'\n",
    "model = 'v20e50'\n",
    "dumps = [250,266,277,292]\n",
    "plotHM_diffDumps(model,dumps,xH)\n",
    "model = 'v10e50'\n",
    "dumps = [245,263,277,292]\n",
    "plotHM_diffDumps(model,dumps,xH)\n",
    "model = 'v05e50'\n",
    "dumps = [245,263,277,292]\n",
    "plotHM_diffDumps(model,dumps,xH)"
   ]
  },
  {
   "cell_type": "code",
   "execution_count": 2,
   "id": "e30d43db-f668-4567-8ee7-e1518cd9b56b",
   "metadata": {
    "tags": []
   },
   "outputs": [
    {
     "data": {
      "text/plain": [
       "'\\nPlot of scale heights, total mass and relative added mass ifo r for 3 different models, same dump\\n'"
      ]
     },
     "execution_count": 2,
     "metadata": {},
     "output_type": "execute_result"
    }
   ],
   "source": [
    "'''\n",
    "Plot of scale heights, total mass and relative added mass ifo r for 3 different models, same dump\n",
    "'''\n",
    "modelNames = ['v05e00','v10e00','v20e00']\n",
    "dump = 292\n",
    "xH   = '2H'\n",
    "plotHMrM_3models(modelNames,dump,xH)\n",
    "xH   = '1H'\n",
    "plotHMrM_3models(modelNames,dump,xH)"
   ]
  },
  {
   "cell_type": "code",
   "execution_count": 3,
   "id": "6a7e6622-27f9-4087-b7b7-eb0e51b134b6",
   "metadata": {
    "tags": []
   },
   "outputs": [
    {
     "data": {
      "text/plain": [
       "'\\nPlot of scale heights and total mass ifo r for 1 model, 1 dump, 4 thetaregions\\n'"
      ]
     },
     "execution_count": 3,
     "metadata": {},
     "output_type": "execute_result"
    }
   ],
   "source": [
    "'''\n",
    "Plot of scale heights and total mass ifo r for 1 model, 1 dump, 4 thetaregions\n",
    "'''\n",
    "dump = 292\n",
    "xH = '1H'\n",
    "model = 'v20e00'\n",
    "plotHM_diffThetaRegions(dump,model,xH)\n",
    "model = 'v10e00'\n",
    "plotHM_diffThetaRegions(dump,model,xH)\n",
    "model = 'v05e00'\n",
    "plotHM_diffThetaRegions(dump,model,xH)\n",
    "xH = '2H'\n",
    "model = 'v20e00'\n",
    "plotHM_diffThetaRegions(dump,model,xH)\n",
    "model = 'v10e00'\n",
    "plotHM_diffThetaRegions(dump,model,xH)\n",
    "model = 'v05e00'\n",
    "plotHM_diffThetaRegions(dump,model,xH)"
   ]
  },
  {
   "cell_type": "code",
   "execution_count": null,
   "id": "fe6b7886-695c-4eb3-872b-43bda20074b8",
   "metadata": {},
   "outputs": [],
   "source": []
  }
 ],
 "metadata": {
  "kernelspec": {
   "display_name": "Python 3 (ipykernel)",
   "language": "python",
   "name": "python3"
  },
  "language_info": {
   "codemirror_mode": {
    "name": "ipython",
    "version": 3
   },
   "file_extension": ".py",
   "mimetype": "text/x-python",
   "name": "python",
   "nbconvert_exporter": "python",
   "pygments_lexer": "ipython3",
   "version": "3.10.13"
  }
 },
 "nbformat": 4,
 "nbformat_minor": 5
}
