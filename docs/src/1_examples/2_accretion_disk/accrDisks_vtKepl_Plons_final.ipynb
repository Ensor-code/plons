{
 "cells": [
  {
   "cell_type": "code",
   "execution_count": 1,
   "id": "9310d776-8884-41a6-a8e8-f71f94a75ad1",
   "metadata": {},
   "outputs": [],
   "source": [
    "import math                     as math\n",
    "import matplotlib.pyplot        as plt\n",
    "import numpy as np\n",
    "# import necessary plons scripts\n",
    "import plons.AccrDisk           as ad"
   ]
  },
  {
   "cell_type": "code",
   "execution_count": 2,
   "id": "b3e09372-3c74-479a-8f07-58f34c9cb739",
   "metadata": {},
   "outputs": [
    {
     "name": "stderr",
     "output_type": "stream",
     "text": [
      "/lhome/jolienm/anaconda3/envs/plons/lib/python3.10/site-packages/numpy/core/fromnumeric.py:3464: RuntimeWarning: Mean of empty slice.\n",
      "  return _methods._mean(a, axis=axis, dtype=dtype,\n",
      "/lhome/jolienm/anaconda3/envs/plons/lib/python3.10/site-packages/numpy/core/_methods.py:192: RuntimeWarning: invalid value encountered in scalar divide\n",
      "  ret = ret.dtype.type(ret / rcount)\n"
     ]
    }
   ],
   "source": [
    "%matplotlib inline \n",
    "\n",
    "dump = 292\n",
    "models = ['v05e00','v10e00','v20e00']\n",
    "rs  = [0.94, 0.75, 0.36]   #for crit03\n",
    "colors = ['firebrick','goldenrod','navy']\n",
    "\n",
    "#rvalue to start from + also determines step for rr array\n",
    "rstep = 0.02\n",
    "rmin  = rstep/2\n",
    "# rmin = 0.005\n",
    "fig, ax = plt.subplots()\n",
    "\n",
    "i = 0\n",
    "for model in models:\n",
    "    run    = '/lhome/jolienm/Documents/TierModels/R_Aql/cooling/binariesInPaper/finalAccrDisks/'+str(model)+'_T3000_res8_racc01/'\n",
    "    dumpData,setup = ad.loadDataForSmoothing(run,dump)\n",
    "    rmax = rs[i]\n",
    "    ad.plot_vt_divided_vtKepl(ax,rmax,rmin,rstep,dumpData,model,colors,i)\n",
    "    i = i+1\n",
    "ax.legend(fontsize = 12)\n",
    "ax.set_xlabel(r'$r$ [au]',fontsize = 12)\n",
    "ax.set_ylabel(r'$v_{\\rm t}/v_{\\rm kepl}$ [km/s]',fontsize = 12,rotation = 90)\n",
    "ax.tick_params(axis='x', labelsize=12)\n",
    "ax.tick_params(axis='y', labelsize=12)\n",
    "# fig.show()\n",
    "plt.savefig('/lhome/jolienm/Documents/TierModels/R_Aql/cooling/binariesInPaper/finalAccrDisks/plotsAnalysis/vt:vtKepl.png')\n",
    "plt.close()"
   ]
  },
  {
   "cell_type": "code",
   "execution_count": 3,
   "id": "c90e4805-f642-4a55-9211-6239e81a569f",
   "metadata": {
    "tags": []
   },
   "outputs": [],
   "source": [
    "%matplotlib inline \n",
    "\n",
    "dump = 292\n",
    "fig, ax = plt.subplots()\n",
    "rstep = 0.02\n",
    "rmin  = rstep/2\n",
    "models = ['v05e00','v10e00','v20e00']\n",
    "colors = ['firebrick','goldenrod','navy']\n",
    "lineStyles=['-','-','-','-']\n",
    "rs  = [0.94, 0.75, 0.36]   #for crit03\n",
    "k_vt   = np.array([])\n",
    "r_vt_max = np.array([])\n",
    "i = 0\n",
    "for model in models:\n",
    "    run    = '/lhome/jolienm/Documents/TierModels/R_Aql/cooling/binariesInPaper/finalAccrDisks/'+str(model)+'_T3000_res8_racc01/'\n",
    "    dumpData,setup = ad.loadDataForSmoothing(run,dump)\n",
    "    rmax = rs[i]#-rstep/2\n",
    "    r_vt_max = ad.plot_vt_vKepl(ax,rmax,rmin,rstep,dumpData,model,k_vt,r_vt_max,colors,lineStyles,i)\n",
    "    i = i+1\n",
    "ax.legend(fontsize = 12)\n",
    "ax.set_xlabel(r'$r$ [au]',fontsize = 12)\n",
    "ax.set_ylabel(r'$v_t$ [km/s]',fontsize = 12,rotation = 90)\n",
    "ax.set_ylim(1,np.max(r_vt_max)+40)\n",
    "ax.tick_params(axis='x', labelsize=12)\n",
    "ax.tick_params(axis='y', labelsize=12)\n",
    "# fig.show()\n",
    "plt.savefig('/lhome/jolienm/Documents/TierModels/R_Aql/cooling/binariesInPaper/finalAccrDisks/plotsAnalysis/vt_vtKepl.png')\n",
    "plt.close()"
   ]
  },
  {
   "cell_type": "code",
   "execution_count": 4,
   "id": "ca9f0a06-1dd2-4f0e-ae2a-7d8282b91f36",
   "metadata": {},
   "outputs": [],
   "source": [
    "%matplotlib inline \n",
    "\n",
    "dump = 292\n",
    "fig, ax = plt.subplots()\n",
    "rstep = 0.01\n",
    "rmin  = rstep/2\n",
    "models = ['v05e00','v10e00','v20e00']\n",
    "colors = ['firebrick','goldenrod','navy']\n",
    "rs  = [0.94, 0.75, 0.36]  \n",
    "\n",
    "i = 0\n",
    "for model in models:\n",
    "    run    = '/lhome/jolienm/Documents/TierModels/R_Aql/cooling/binariesInPaper/finalAccrDisks/'+str(model)+'_T3000_res8_racc01/'\n",
    "    dumpData,setup = ad.loadDataForSmoothing(run,dump)\n",
    "    rmax = rs[i]#-rstep/2\n",
    "    ad.plot_vrmean(ax,rmax,rmin,rstep,dumpData,model,colors,i)\n",
    "    i = i+1\n",
    "\n",
    "ax.hlines(0,0,np.max(rs),linewidth = 0.7,linestyle = '--',color = 'k') \n",
    "ax.legend(fontsize = 12)\n",
    "ax.set_xlabel(r'$r$ [au]',fontsize = 12)\n",
    "ax.set_ylabel(r'mean $v_r$ [km/s]',fontsize = 12,rotation = 90)\n",
    "ax.set_ylim(-10,2)\n",
    "ax.tick_params(axis='x', labelsize=12)\n",
    "ax.tick_params(axis='y', labelsize=12)\n",
    "# fig.show()\n",
    "plt.savefig('/lhome/jolienm/Documents/TierModels/R_Aql/cooling/binariesInPaper/finalAccrDisks/plotsAnalysis/mean_vr.png')\n",
    "plt.close()"
   ]
  },
  {
   "cell_type": "code",
   "execution_count": null,
   "id": "ded43fa6-1de7-4a3c-af37-1fa0a5b44814",
   "metadata": {},
   "outputs": [],
   "source": []
  }
 ],
 "metadata": {
  "kernelspec": {
   "display_name": "Python 3 (ipykernel)",
   "language": "python",
   "name": "python3"
  },
  "language_info": {
   "codemirror_mode": {
    "name": "ipython",
    "version": 3
   },
   "file_extension": ".py",
   "mimetype": "text/x-python",
   "name": "python",
   "nbconvert_exporter": "python",
   "pygments_lexer": "ipython3",
   "version": "3.10.13"
  }
 },
 "nbformat": 4,
 "nbformat_minor": 5
}
