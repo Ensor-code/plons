{
 "cells": [
  {
   "cell_type": "code",
   "execution_count": 28,
   "id": "707f7685-d1c5-4162-aeac-5f61d4005882",
   "metadata": {
    "tags": []
   },
   "outputs": [],
   "source": [
    "import matplotlib.pyplot        as plt\n",
    "import plons.ConversionFactors_cgs        as cgs\n",
    "\n",
    "G = 6.674e-8                    # gravitational constant     [cm^3 g^-1 s^-2]\n"
   ]
  },
  {
   "cell_type": "code",
   "execution_count": 29,
   "id": "9fc2336e-cd46-4f10-86ce-9370be8f7304",
   "metadata": {
    "tags": []
   },
   "outputs": [],
   "source": [
    "%matplotlib inline \n"
   ]
  },
  {
   "cell_type": "code",
   "execution_count": 30,
   "id": "c7a5cf7a-7812-41ab-8898-12b35e6cdb97",
   "metadata": {
    "tags": []
   },
   "outputs": [],
   "source": [
    "vw_6au_mu126 = [12.7,15.0,22.8]\n",
    "v_inf_mu126  = [15.5,17.7,24.8]\n",
    "vw_6au_mu238 = [9.7,15.0,22.8]\n",
    "v_inf_mu238  = [11.7,14.6,22.7]\n",
    "\n",
    "x_6au = 6\n",
    "x_inf = 12"
   ]
  },
  {
   "cell_type": "code",
   "execution_count": 32,
   "id": "5187a097-5dfb-4645-a954-b7cb7fca7472",
   "metadata": {},
   "outputs": [],
   "source": [
    "mp = 1.5 *cgs.Msun\n",
    "ms = 1  * cgs.Msun\n",
    "\n",
    "a = 5 *cgs.au\n",
    "# v = 22 *cgs.kms\n",
    "\n",
    "def calc_b(mp,ms,a,vinf):\n",
    "    M = mp + ms\n",
    "    rw = (G * mp**2) /( vinf**2 * M)\n",
    "    b = 2 * (ms**2 / mp**5) * (M)**3 * a**(-5./2.) * (1/a + 1/rw)**(-7./2.)\n",
    "    print('b = ',b/cgs.au, ' au')"
   ]
  },
  {
   "cell_type": "code",
   "execution_count": 33,
   "id": "52156217-e0bc-40e6-af86-4f1ff0925300",
   "metadata": {
    "tags": []
   },
   "outputs": [
    {
     "name": "stdout",
     "output_type": "stream",
     "text": [
      "b =  20.576131676407293  au\n",
      "b =  20.57613167311312  au\n",
      "b =  20.57613165950392  au\n"
     ]
    }
   ],
   "source": [
    "for v in v_inf_mu126 :\n",
    "    calc_b(mp,ms,a,v)"
   ]
  },
  {
   "cell_type": "code",
   "execution_count": null,
   "id": "ebceb1e4-e543-48b5-8902-cdc86eb6722b",
   "metadata": {},
   "outputs": [],
   "source": []
  }
 ],
 "metadata": {
  "kernelspec": {
   "display_name": "Python 3 (ipykernel)",
   "language": "python",
   "name": "python3"
  },
  "language_info": {
   "codemirror_mode": {
    "name": "ipython",
    "version": 3
   },
   "file_extension": ".py",
   "mimetype": "text/x-python",
   "name": "python",
   "nbconvert_exporter": "python",
   "pygments_lexer": "ipython3",
   "version": "3.10.13"
  }
 },
 "nbformat": 4,
 "nbformat_minor": 5
}
